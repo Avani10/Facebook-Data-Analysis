{
 "cells": [
  {
   "cell_type": "markdown",
   "metadata": {},
   "source": [
    "# Facebook Data Analysis"
   ]
  },
  {
   "cell_type": "code",
   "execution_count": 1,
   "metadata": {},
   "outputs": [
    {
     "name": "stdout",
     "output_type": "stream",
     "text": [
      "Populating the interactive namespace from numpy and matplotlib\n"
     ]
    }
   ],
   "source": [
    "from pandas import Series, DataFrame\n",
    "import pandas as pd\n",
    "# Resetting plotting Defaults\n",
    "import matplotlib as mpl\n",
    "mpl.rcParams.update(mpl.rcParamsDefault)\n",
    "%matplotlib inline\n",
    "%pylab inline"
   ]
  },
  {
   "cell_type": "code",
   "execution_count": 2,
   "metadata": {},
   "outputs": [],
   "source": [
    "fb=pd.read_csv(\"pseudo_facebook.csv\", dtype=unicode, sep=',')\n",
    "fb=fb.astype({'userid': int64,\n",
    "'age':int64,\n",
    "'dob_day':                    int64,\n",
    "'dob_year':                   int64,\n",
    "'dob_month':                  int64,\n",
    "'gender':                    object,\n",
    "'tenure':                   float64,\n",
    "'friend_count':               int64,\n",
    "'friendships_initiated':      int64,\n",
    "'likes':                      int64,\n",
    "'likes_received':             int64,\n",
    "'mobile_likes' :              int64,\n",
    "'mobile_likes_received':      int64,\n",
    "'www_likes':                  int64,\n",
    "'www_likes_received':         int64})"
   ]
  },
  {
   "cell_type": "code",
   "execution_count": 3,
   "metadata": {},
   "outputs": [
    {
     "data": {
      "text/html": [
       "<div>\n",
       "<style scoped>\n",
       "    .dataframe tbody tr th:only-of-type {\n",
       "        vertical-align: middle;\n",
       "    }\n",
       "\n",
       "    .dataframe tbody tr th {\n",
       "        vertical-align: top;\n",
       "    }\n",
       "\n",
       "    .dataframe thead th {\n",
       "        text-align: right;\n",
       "    }\n",
       "</style>\n",
       "<table border=\"1\" class=\"dataframe\">\n",
       "  <thead>\n",
       "    <tr style=\"text-align: right;\">\n",
       "      <th></th>\n",
       "      <th>userid</th>\n",
       "      <th>age</th>\n",
       "      <th>dob_day</th>\n",
       "      <th>dob_year</th>\n",
       "      <th>dob_month</th>\n",
       "      <th>gender</th>\n",
       "      <th>tenure</th>\n",
       "      <th>friend_count</th>\n",
       "      <th>friendships_initiated</th>\n",
       "      <th>likes</th>\n",
       "      <th>likes_received</th>\n",
       "      <th>mobile_likes</th>\n",
       "      <th>mobile_likes_received</th>\n",
       "      <th>www_likes</th>\n",
       "      <th>www_likes_received</th>\n",
       "    </tr>\n",
       "  </thead>\n",
       "  <tbody>\n",
       "    <tr>\n",
       "      <th>0</th>\n",
       "      <td>2094382</td>\n",
       "      <td>14</td>\n",
       "      <td>19</td>\n",
       "      <td>1999</td>\n",
       "      <td>11</td>\n",
       "      <td>male</td>\n",
       "      <td>266.0</td>\n",
       "      <td>0</td>\n",
       "      <td>0</td>\n",
       "      <td>0</td>\n",
       "      <td>0</td>\n",
       "      <td>0</td>\n",
       "      <td>0</td>\n",
       "      <td>0</td>\n",
       "      <td>0</td>\n",
       "    </tr>\n",
       "    <tr>\n",
       "      <th>1</th>\n",
       "      <td>1192601</td>\n",
       "      <td>14</td>\n",
       "      <td>2</td>\n",
       "      <td>1999</td>\n",
       "      <td>11</td>\n",
       "      <td>female</td>\n",
       "      <td>6.0</td>\n",
       "      <td>0</td>\n",
       "      <td>0</td>\n",
       "      <td>0</td>\n",
       "      <td>0</td>\n",
       "      <td>0</td>\n",
       "      <td>0</td>\n",
       "      <td>0</td>\n",
       "      <td>0</td>\n",
       "    </tr>\n",
       "    <tr>\n",
       "      <th>2</th>\n",
       "      <td>2083884</td>\n",
       "      <td>14</td>\n",
       "      <td>16</td>\n",
       "      <td>1999</td>\n",
       "      <td>11</td>\n",
       "      <td>male</td>\n",
       "      <td>13.0</td>\n",
       "      <td>0</td>\n",
       "      <td>0</td>\n",
       "      <td>0</td>\n",
       "      <td>0</td>\n",
       "      <td>0</td>\n",
       "      <td>0</td>\n",
       "      <td>0</td>\n",
       "      <td>0</td>\n",
       "    </tr>\n",
       "    <tr>\n",
       "      <th>3</th>\n",
       "      <td>1203168</td>\n",
       "      <td>14</td>\n",
       "      <td>25</td>\n",
       "      <td>1999</td>\n",
       "      <td>12</td>\n",
       "      <td>female</td>\n",
       "      <td>93.0</td>\n",
       "      <td>0</td>\n",
       "      <td>0</td>\n",
       "      <td>0</td>\n",
       "      <td>0</td>\n",
       "      <td>0</td>\n",
       "      <td>0</td>\n",
       "      <td>0</td>\n",
       "      <td>0</td>\n",
       "    </tr>\n",
       "    <tr>\n",
       "      <th>4</th>\n",
       "      <td>1733186</td>\n",
       "      <td>14</td>\n",
       "      <td>4</td>\n",
       "      <td>1999</td>\n",
       "      <td>12</td>\n",
       "      <td>male</td>\n",
       "      <td>82.0</td>\n",
       "      <td>0</td>\n",
       "      <td>0</td>\n",
       "      <td>0</td>\n",
       "      <td>0</td>\n",
       "      <td>0</td>\n",
       "      <td>0</td>\n",
       "      <td>0</td>\n",
       "      <td>0</td>\n",
       "    </tr>\n",
       "  </tbody>\n",
       "</table>\n",
       "</div>"
      ],
      "text/plain": [
       "    userid  age  dob_day  dob_year  dob_month  gender  tenure  friend_count  \\\n",
       "0  2094382   14       19      1999         11    male   266.0             0   \n",
       "1  1192601   14        2      1999         11  female     6.0             0   \n",
       "2  2083884   14       16      1999         11    male    13.0             0   \n",
       "3  1203168   14       25      1999         12  female    93.0             0   \n",
       "4  1733186   14        4      1999         12    male    82.0             0   \n",
       "\n",
       "   friendships_initiated  likes  likes_received  mobile_likes  \\\n",
       "0                      0      0               0             0   \n",
       "1                      0      0               0             0   \n",
       "2                      0      0               0             0   \n",
       "3                      0      0               0             0   \n",
       "4                      0      0               0             0   \n",
       "\n",
       "   mobile_likes_received  www_likes  www_likes_received  \n",
       "0                      0          0                   0  \n",
       "1                      0          0                   0  \n",
       "2                      0          0                   0  \n",
       "3                      0          0                   0  \n",
       "4                      0          0                   0  "
      ]
     },
     "execution_count": 3,
     "metadata": {},
     "output_type": "execute_result"
    }
   ],
   "source": [
    "fb.head(5)"
   ]
  },
  {
   "cell_type": "markdown",
   "metadata": {},
   "source": [
    "# 1. Sanity check"
   ]
  },
  {
   "cell_type": "code",
   "execution_count": 4,
   "metadata": {},
   "outputs": [],
   "source": [
    "check_null=fb.isnull()"
   ]
  },
  {
   "cell_type": "code",
   "execution_count": 5,
   "metadata": {},
   "outputs": [
    {
     "data": {
      "text/plain": [
       "userid                     0\n",
       "age                        0\n",
       "dob_day                    0\n",
       "dob_year                   0\n",
       "dob_month                  0\n",
       "gender                   175\n",
       "tenure                     2\n",
       "friend_count               0\n",
       "friendships_initiated      0\n",
       "likes                      0\n",
       "likes_received             0\n",
       "mobile_likes               0\n",
       "mobile_likes_received      0\n",
       "www_likes                  0\n",
       "www_likes_received         0\n",
       "dtype: int64"
      ]
     },
     "execution_count": 5,
     "metadata": {},
     "output_type": "execute_result"
    }
   ],
   "source": [
    "sum(check_null)"
   ]
  },
  {
   "cell_type": "markdown",
   "metadata": {},
   "source": [
    "Observation: Gender & tenure has null values, we should not delete these as users might have kept it blank"
   ]
  },
  {
   "cell_type": "markdown",
   "metadata": {},
   "source": [
    "### Generic Variable distribution"
   ]
  },
  {
   "cell_type": "code",
   "execution_count": 6,
   "metadata": {},
   "outputs": [
    {
     "data": {
      "text/plain": [
       "array(['userid', 'age', 'dob_day', 'dob_year', 'dob_month', 'gender',\n",
       "       'tenure', 'friend_count', 'friendships_initiated', 'likes',\n",
       "       'likes_received', 'mobile_likes', 'mobile_likes_received',\n",
       "       'www_likes', 'www_likes_received'], dtype=object)"
      ]
     },
     "execution_count": 6,
     "metadata": {},
     "output_type": "execute_result"
    }
   ],
   "source": [
    "fb.columns.values"
   ]
  },
  {
   "cell_type": "code",
   "execution_count": 7,
   "metadata": {},
   "outputs": [
    {
     "data": {
      "text/plain": [
       "userid                     int64\n",
       "age                        int64\n",
       "dob_day                    int64\n",
       "dob_year                   int64\n",
       "dob_month                  int64\n",
       "gender                    object\n",
       "tenure                   float64\n",
       "friend_count               int64\n",
       "friendships_initiated      int64\n",
       "likes                      int64\n",
       "likes_received             int64\n",
       "mobile_likes               int64\n",
       "mobile_likes_received      int64\n",
       "www_likes                  int64\n",
       "www_likes_received         int64\n",
       "dtype: object"
      ]
     },
     "execution_count": 7,
     "metadata": {},
     "output_type": "execute_result"
    }
   ],
   "source": [
    "fb.dtypes"
   ]
  },
  {
   "cell_type": "code",
   "execution_count": 8,
   "metadata": {},
   "outputs": [
    {
     "data": {
      "text/plain": [
       "array([[<matplotlib.axes._subplots.AxesSubplot object at 0x000000000DBF3898>,\n",
       "        <matplotlib.axes._subplots.AxesSubplot object at 0x0000000009FD4C50>,\n",
       "        <matplotlib.axes._subplots.AxesSubplot object at 0x000000000DAC5400>],\n",
       "       [<matplotlib.axes._subplots.AxesSubplot object at 0x000000000D746B70>,\n",
       "        <matplotlib.axes._subplots.AxesSubplot object at 0x0000000009817320>,\n",
       "        <matplotlib.axes._subplots.AxesSubplot object at 0x000000000D78FA90>],\n",
       "       [<matplotlib.axes._subplots.AxesSubplot object at 0x0000000009863240>,\n",
       "        <matplotlib.axes._subplots.AxesSubplot object at 0x00000000094729B0>,\n",
       "        <matplotlib.axes._subplots.AxesSubplot object at 0x000000000A059160>],\n",
       "       [<matplotlib.axes._subplots.AxesSubplot object at 0x000000000DB8A8D0>,\n",
       "        <matplotlib.axes._subplots.AxesSubplot object at 0x000000000DB07080>,\n",
       "        <matplotlib.axes._subplots.AxesSubplot object at 0x000000000DB3B7F0>]], dtype=object)"
      ]
     },
     "execution_count": 8,
     "metadata": {},
     "output_type": "execute_result"
    },
    {
     "data": {
      "image/png": "[encoded data removed]",
      "text/plain": [
       "<Figure size 864x864 with 12 Axes>"
      ]
     },
     "metadata": {},
     "output_type": "display_data"
    }
   ],
   "source": [
    "forhist=['age','friend_count', 'friendships_initiated', 'likes',\n",
    "       'likes_received', 'mobile_likes', 'mobile_likes_received',\n",
    "       'www_likes','www_likes_received','tenure']\n",
    "fb_subset1=pd.DataFrame(fb[forhist])\n",
    "fb_subset1.hist(figsize=(12,12), color='#41b6c4')"
   ]
  },
  {
   "cell_type": "code",
   "execution_count": 9,
   "metadata": {},
   "outputs": [],
   "source": [
    "# remove outliers\n",
    "def rem_out(elements):\n",
    "    mean = numpy.mean(elements, axis=0)\n",
    "    sd = numpy.std(elements, axis=0)\n",
    "    final_list = [x for x in elements if (x > mean - 2 * sd)]\n",
    "    final_list = [x for x in final_list if (x < mean + 2 * sd)]\n",
    "    return final_list"
   ]
  },
  {
   "cell_type": "markdown",
   "metadata": {},
   "source": [
    "### Users with most number of likes\n"
   ]
  },
  {
   "cell_type": "code",
   "execution_count": 10,
   "metadata": {},
   "outputs": [],
   "source": [
    "# import matplotlib as mpl\n",
    "# mpl.rcParams.update(mpl.rcParamsDefault)"
   ]
  },
  {
   "cell_type": "code",
   "execution_count": 11,
   "metadata": {
    "scrolled": true
   },
   "outputs": [
    {
     "data": {
      "text/plain": [
       "<matplotlib.axes._subplots.AxesSubplot at 0x4790dd8>"
      ]
     },
     "execution_count": 11,
     "metadata": {},
     "output_type": "execute_result"
    },
    {
     "data": {
      "image/png": "[encoded data removed]",
      "text/plain": [
       "<Figure size 432x288 with 1 Axes>"
      ]
     },
     "metadata": {},
     "output_type": "display_data"
    }
   ],
   "source": [
    "#mycolors=np.array(['#F8B195','#F67280','#C06C84','#6C5B7B', '#355C7D'])\n",
    "mycolors=np.array(['#225ea8', '#41b6c4', '#a1dab4', '#ffffcc'])\n",
    "k=fb[['userid','likes']].reset_index()\n",
    "k['likes'].sort_values(ascending=False)[:5].plot(kind='bar', color=mycolors, width=0.8)\n"
   ]
  },
  {
   "cell_type": "markdown",
   "metadata": {},
   "source": [
    "### Friend count DIstribution\n",
    "For 95% observations we have friend count between 0 to 1000"
   ]
  },
  {
   "cell_type": "code",
   "execution_count": 12,
   "metadata": {},
   "outputs": [
    {
     "data": {
      "text/plain": [
       "<matplotlib.axes._subplots.AxesSubplot at 0x977b080>"
      ]
     },
     "execution_count": 12,
     "metadata": {},
     "output_type": "execute_result"
    },
    {
     "data": {
      "image/png": "[encoded data removed]",
      "text/plain": [
       "<Figure size 432x288 with 1 Axes>"
      ]
     },
     "metadata": {},
     "output_type": "display_data"
    }
   ],
   "source": [
    "pd.Series(rem_out(fb_subset1['friend_count'])).hist(bins=100, color='#a1dab4')"
   ]
  },
  {
   "cell_type": "code",
   "execution_count": 13,
   "metadata": {},
   "outputs": [
    {
     "data": {
      "text/html": [
       "<div>\n",
       "<style scoped>\n",
       "    .dataframe tbody tr th:only-of-type {\n",
       "        vertical-align: middle;\n",
       "    }\n",
       "\n",
       "    .dataframe tbody tr th {\n",
       "        vertical-align: top;\n",
       "    }\n",
       "\n",
       "    .dataframe thead th {\n",
       "        text-align: right;\n",
       "    }\n",
       "</style>\n",
       "<table border=\"1\" class=\"dataframe\">\n",
       "  <thead>\n",
       "    <tr style=\"text-align: right;\">\n",
       "      <th></th>\n",
       "      <th>friend_count</th>\n",
       "    </tr>\n",
       "    <tr>\n",
       "      <th>userid</th>\n",
       "      <th></th>\n",
       "    </tr>\n",
       "  </thead>\n",
       "  <tbody>\n",
       "    <tr>\n",
       "      <th>2090699</th>\n",
       "      <td>4923</td>\n",
       "    </tr>\n",
       "    <tr>\n",
       "      <th>1660276</th>\n",
       "      <td>4917</td>\n",
       "    </tr>\n",
       "    <tr>\n",
       "      <th>1926655</th>\n",
       "      <td>4863</td>\n",
       "    </tr>\n",
       "    <tr>\n",
       "      <th>1685573</th>\n",
       "      <td>4845</td>\n",
       "    </tr>\n",
       "    <tr>\n",
       "      <th>1386477</th>\n",
       "      <td>4844</td>\n",
       "    </tr>\n",
       "  </tbody>\n",
       "</table>\n",
       "</div>"
      ],
      "text/plain": [
       "         friend_count\n",
       "userid               \n",
       "2090699          4923\n",
       "1660276          4917\n",
       "1926655          4863\n",
       "1685573          4845\n",
       "1386477          4844"
      ]
     },
     "execution_count": 13,
     "metadata": {},
     "output_type": "execute_result"
    }
   ],
   "source": [
    "# Top 5\n",
    "fb[['friend_count','userid']].sort_values(by='friend_count', ascending = False)[:5].set_index('userid')"
   ]
  },
  {
   "cell_type": "markdown",
   "metadata": {},
   "source": [
    "### Likes Distribution\n",
    "\n",
    "For 95% observations we have likes between 0 to 1200"
   ]
  },
  {
   "cell_type": "code",
   "execution_count": 14,
   "metadata": {},
   "outputs": [
    {
     "data": {
      "text/plain": [
       "<matplotlib.axes._subplots.AxesSubplot at 0x9d52f60>"
      ]
     },
     "execution_count": 14,
     "metadata": {},
     "output_type": "execute_result"
    },
    {
     "data": {
      "image/png": "[encoded data removed]",
      "text/plain": [
       "<Figure size 432x288 with 1 Axes>"
      ]
     },
     "metadata": {},
     "output_type": "display_data"
    }
   ],
   "source": [
    "Generic_likes=rem_out(fb['likes'])\n",
    "pd.Series(Generic_likes).hist(bins=100, color='#41b6c4')"
   ]
  },
  {
   "cell_type": "markdown",
   "metadata": {},
   "source": [
    "# 2. Exploratory Data Analysis"
   ]
  },
  {
   "cell_type": "markdown",
   "metadata": {},
   "source": [
    "### Correlation plot shows magnitude of correlation between pairwise variables in dataset\n",
    "\n",
    "1. Friend count & friendships inititated are strongly correlated\n",
    "2. We would ignore correlations of subsets of likes & likes received as these are bound to be correlated (here we refer to mobile & site likes/likes received)\n",
    "3. Tenure and Age also seem to be related"
   ]
  },
  {
   "cell_type": "code",
   "execution_count": 15,
   "metadata": {},
   "outputs": [],
   "source": [
    "import seaborn as sns # just a conventional alias, don't know why\n"
   ]
  },
  {
   "cell_type": "code",
   "execution_count": 16,
   "metadata": {},
   "outputs": [],
   "source": [
    "# Remove object column in dataframe to use heatmap (Gender here)\n",
    "cols=['age','tenure', 'friend_count', 'friendships_initiated', 'likes',\n",
    "       'likes_received', 'mobile_likes', 'mobile_likes_received',\n",
    "       'www_likes', 'www_likes_received']\n",
    "fb_hm=fb[cols]\n",
    "fb_hm=fb_hm.fillna(0)\n",
    "# sns.heatmap(features.drop(['columnName01_OfTypeObject','columnName02_OfTypeObject'],axis=1)"
   ]
  },
  {
   "cell_type": "code",
   "execution_count": 17,
   "metadata": {},
   "outputs": [
    {
     "data": {
      "text/plain": [
       "[Text(0,0.5,'age'),\n",
       " Text(0,1.5,'tenure'),\n",
       " Text(0,2.5,'friend_count'),\n",
       " Text(0,3.5,'friendships_initiated'),\n",
       " Text(0,4.5,'likes'),\n",
       " Text(0,5.5,'likes_received'),\n",
       " Text(0,6.5,'mobile_likes'),\n",
       " Text(0,7.5,'mobile_likes_received'),\n",
       " Text(0,8.5,'www_likes'),\n",
       " Text(0,9.5,'www_likes_received')]"
      ]
     },
     "execution_count": 17,
     "metadata": {},
     "output_type": "execute_result"
    },
    {
     "data": {
      "image/png": "[encoded data removed]",
      "text/plain": [
       "<Figure size 720x720 with 2 Axes>"
      ]
     },
     "metadata": {},
     "output_type": "display_data"
    }
   ],
   "source": [
    "corr = fb_hm.corr(method='pearson')\n",
    "mask = np.zeros_like(corr)\n",
    "mask[np.triu_indices_from(mask)] = True\n",
    "fig, ax = plt.subplots(figsize=(10,10)) \n",
    "with sns.axes_style(\"white\"):\n",
    "    ax = sns.heatmap(corr, mask=mask, vmax=1, square=True,cmap=\"YlGnBu\", linewidths=.8)\n",
    "ax.set_title('Correlation Plot', size=20)\n",
    "ax.set_xlabel('Variables', size=16)\n",
    "ax.set_ylabel('Variables', size=16)\n",
    "ax.set_xticklabels(cols,fontsize=14)\n",
    "ax.set_yticklabels(cols,fontsize=14)"
   ]
  },
  {
   "cell_type": "markdown",
   "metadata": {},
   "source": [
    "### Likes by Birth Year & month\n",
    "\n",
    "1. As years are increasing on x-axis there are more number of likes, depicting extensive usage of facebook\n",
    "2. Month prominence for year 1994-95, two months standout in number of likes September & March (fun observation)"
   ]
  },
  {
   "cell_type": "code",
   "execution_count": 18,
   "metadata": {},
   "outputs": [
    {
     "data": {
      "text/plain": [
       "Text(114,0.5,'Months')"
      ]
     },
     "execution_count": 18,
     "metadata": {},
     "output_type": "execute_result"
    },
    {
     "data": {
      "image/png": "[encoded data removed]",
      "text/plain": [
       "<Figure size 1080x360 with 2 Axes>"
      ]
     },
     "metadata": {},
     "output_type": "display_data"
    }
   ],
   "source": [
    "fb_likes = pd.pivot_table(fb,index='dob_month', columns='dob_year',values= 'likes', aggfunc='mean')\n",
    "fig, ax = plt.subplots(figsize=(15,5)) \n",
    "x = sns.heatmap(fb_likes, cmap=\"YlGnBu\", ax=ax)\n",
    "ax.set_title('Likes by Birth Year & Month', size=20)\n",
    "ax.set_xlabel('Years', size=16)\n",
    "ax.set_ylabel('Months', size=16)"
   ]
  },
  {
   "cell_type": "code",
   "execution_count": 19,
   "metadata": {},
   "outputs": [
    {
     "ename": "SyntaxError",
     "evalue": "invalid syntax (<ipython-input-19-2af5ed324025>, line 3)",
     "output_type": "error",
     "traceback": [
      "\u001b[1;36m  File \u001b[1;32m\"<ipython-input-19-2af5ed324025>\"\u001b[1;36m, line \u001b[1;32m3\u001b[0m\n\u001b[1;33m    The early years seem to have more mean tenure, might be facebook pages or public user accounts that are mass followed\u001b[0m\n\u001b[1;37m            ^\u001b[0m\n\u001b[1;31mSyntaxError\u001b[0m\u001b[1;31m:\u001b[0m invalid syntax\n"
     ]
    }
   ],
   "source": [
    "### Tenure by Birth Year & month\n",
    "\n",
    "The early years seem to have more mean tenure, might be facebook pages or public user accounts that are mass followed"
   ]
  },
  {
   "cell_type": "code",
   "execution_count": null,
   "metadata": {},
   "outputs": [],
   "source": [
    "fb_likes = pd.pivot_table(fb,index='dob_month', columns='dob_year',values= 'tenure', aggfunc='mean')\n",
    "fig, ax = plt.subplots(figsize=(15,5)) \n",
    "x = sns.heatmap(fb_likes, cmap=\"YlGnBu\", ax=ax)\n",
    "ax.set_title('Tenure by Birth Year & Month', size=20)\n",
    "ax.set_xlabel('Years', size=16)\n",
    "ax.set_ylabel('Months', size=16)"
   ]
  },
  {
   "cell_type": "markdown",
   "metadata": {},
   "source": [
    "### Likes received (depicting popularity)\n",
    "\n",
    "1. It's a many to one relationship, many people give likes to a user. \n",
    "2. Top users's likes show shift of people preferences towards mobile apps rather than site (mostly higher mobile likes than site likes)"
   ]
  },
  {
   "cell_type": "code",
   "execution_count": null,
   "metadata": {},
   "outputs": [],
   "source": [
    "#'#F8B195','#F67280','#C06C84','#6C5B7B', '#355C7D'\n",
    "# '#225ea8', '#41b6c4', '#a1dab4', '#ffffcc'\n",
    "# libraries\n",
    "import matplotlib.pyplot as plt\n",
    "fb_toplikes_received=fb.sort_values(by='likes_received', ascending=False)[:5]\n",
    "    \n",
    "# Values of each group\n",
    "bars1 = fb_toplikes_received['mobile_likes_received']\n",
    "bars2 = fb_toplikes_received['www_likes_received']\n",
    "\n",
    "# The position of the bars on the x-axis\n",
    "r = [0,1,2,3,4]\n",
    " \n",
    "# Names of group and bar width\n",
    "names = fb_toplikes_received['userid']\n",
    "barWidth = 1\n",
    " \n",
    "# Create brown bars\n",
    "plt.bar(r, bars1, color='#225ea8', edgecolor='white', width=barWidth, label='mobile likes')\n",
    "# Create green bars (middle), on top of the firs ones\n",
    "plt.bar(r, bars2, bottom=bars1, color='#41b6c4', edgecolor='white', width=barWidth, label='site likes')\n",
    " \n",
    "# Custom X axis\n",
    "plt.xticks(r, names, rotation =40)\n",
    "plt.xlabel(\"User ID\", size = 14)\n",
    "plt.ylabel(\"Likes Received\", size = 14)\n",
    "plt.title(\"Likes Received split up (Mobile v/s site)\")\n",
    "plt.legend(loc='best')\n",
    " \n",
    "# Show graphic\n",
    "plt.show()"
   ]
  },
  {
   "cell_type": "markdown",
   "metadata": {},
   "source": [
    "### Likes given (depicting individual preference)\n",
    "\n",
    "1. It's a one to many relationship, a user gives likes to many people. \n",
    "2. Top 4,6,7 & 10 user prefer the site more than mobile app\n",
    "3. Still a general skew towards mobile app"
   ]
  },
  {
   "cell_type": "code",
   "execution_count": null,
   "metadata": {},
   "outputs": [],
   "source": [
    "# libraries\n",
    "import matplotlib.pyplot as plt\n",
    "fb_toplikes=fb.sort_values(by='likes', ascending=False)[:10]\n",
    "    \n",
    "# Values of each group\n",
    "bars1 = fb_toplikes['mobile_likes']\n",
    "bars2 = fb_toplikes['www_likes']\n",
    "\n",
    "# The position of the bars on the x-axis\n",
    "r = range(10)\n",
    " \n",
    "# Names of group and bar width\n",
    "names = fb_toplikes['userid']\n",
    "barWidth = 1\n",
    " \n",
    "# Create brown bars\n",
    "plt.bar(r, bars1, color='#a1dab4', edgecolor='white', width=barWidth, label='mobile likes')\n",
    "# Create green bars (middle), on top of the firs ones\n",
    "plt.bar(r, bars2, bottom=bars1, color='#225ea8', edgecolor='white', width=barWidth, label='site likes')\n",
    " \n",
    "# Custom X axis\n",
    "plt.xticks(r, names, rotation =40)\n",
    "plt.xlabel(\"User ID\", size = 14)\n",
    "plt.ylabel(\"Likes Received\", size = 14)\n",
    "plt.title(\"Likes split up (Mobile v/s site)\")\n",
    "plt.legend(loc='best')\n",
    " \n",
    "# Show graphic\n",
    "plt.show()"
   ]
  },
  {
   "cell_type": "markdown",
   "metadata": {},
   "source": [
    "### Gender Preference\n",
    "\n",
    "1. Interesting obsservation for gender specific interaction with facebook: women like as well as are liked a lot more than men (nearly 2.5 as much).\n",
    "2. Generically these likes & likes received are comparable to each other for both men & women.\n",
    "3. Same behaviour is true when the likes/like received are split up between mobile & site, here it's nearly 3 times more in some cases.\n",
    "\n",
    "### Friends Counts & Friendships initiated\n",
    "\n",
    "Women have more friends than men on facebook, the friendships initiated in proportion to friend count are more in case of men than women\n"
   ]
  },
  {
   "cell_type": "code",
   "execution_count": null,
   "metadata": {},
   "outputs": [],
   "source": [
    "fb_gender=fb.fillna(\"NA\")\n",
    "fb_gender_pivot=fb_gender.pivot_table(index='gender', values=['likes','likes_received'],aggfunc='mean')"
   ]
  },
  {
   "cell_type": "code",
   "execution_count": null,
   "metadata": {},
   "outputs": [],
   "source": [
    "fb['gender'].value_counts()"
   ]
  },
  {
   "cell_type": "code",
   "execution_count": null,
   "metadata": {},
   "outputs": [],
   "source": [
    "fb_gender_pivot"
   ]
  },
  {
   "cell_type": "code",
   "execution_count": null,
   "metadata": {},
   "outputs": [],
   "source": [
    "# Drop NA as it is very minute\n",
    "mask_g=fb_gender_pivot.index.values!='NA'\n",
    "fb_gender_pivot=fb_gender_pivot[mask_g]"
   ]
  },
  {
   "cell_type": "code",
   "execution_count": null,
   "metadata": {},
   "outputs": [],
   "source": [
    "fb_gender_pivot.plot(kind='bar',color=mycolors)\n",
    "plt.xticks(size=10)\n",
    "plt.xlabel(\"Gender\", size = 14)\n",
    "plt.ylabel(\"Likes Received (*100 million)\", size = 14)\n",
    "plt.title(\"Likes & Likes Received by gender\")\n",
    "plt.legend(loc='best')"
   ]
  },
  {
   "cell_type": "code",
   "execution_count": null,
   "metadata": {},
   "outputs": [],
   "source": [
    "fb_gender=fb.fillna(\"NA\")\n",
    "fb_gender_pivot=fb_gender.pivot_table(index='gender', values=['mobile_likes', 'mobile_likes_received',\n",
    "       'www_likes','www_likes_received'],aggfunc='mean')\n",
    "# Drop NA as it is very minute\n",
    "mask_g=fb_gender_pivot.index.values!='NA'\n",
    "fb_gender_pivot=fb_gender_pivot[mask_g]\n",
    "fb_gender_pivot.plot(kind='bar',color=mycolors)\n",
    "plt.xticks(size=10)\n",
    "plt.xlabel(\"Gender\", size = 14)\n",
    "plt.ylabel(\"Likes & Likes Received\", size = 14)\n",
    "plt.title(\"Likes & Likes Received by gender (mobile & site)\")\n",
    "plt.legend(loc='best')"
   ]
  },
  {
   "cell_type": "code",
   "execution_count": null,
   "metadata": {},
   "outputs": [],
   "source": [
    "fb_gender=fb.fillna(\"NA\")\n",
    "fb_gender_pivot=fb_gender.pivot_table(index='gender', values=['friend_count', 'friendships_initiated'],aggfunc='mean')\n",
    "# Drop NA as it is very minute\n",
    "mask_g=fb_gender_pivot.index.values!='NA'\n",
    "fb_gender_pivot=fb_gender_pivot[mask_g]\n",
    "fb_gender_pivot.plot(kind='bar',color=mycolors)\n",
    "plt.xticks(size=10)\n",
    "plt.xlabel(\"Gender\", size = 14)\n",
    "plt.ylabel(\"Total Friends & Friendships Initiated\", size = 14)\n",
    "plt.title(\"Total Friends & Friendships Initiated\")\n",
    "plt.legend(loc=(1.1,.85))"
   ]
  },
  {
   "cell_type": "markdown",
   "metadata": {},
   "source": [
    "### Users w.r.t birth year\n",
    "\n",
    "We see bumps between 1940 to 1980. After 1980 the no. users rocket. Since the data is till 2000 (we see miniscule value in 2000)"
   ]
  },
  {
   "cell_type": "code",
   "execution_count": 20,
   "metadata": {},
   "outputs": [],
   "source": [
    "fb_yearwise=fb[['dob_year','userid']].drop_duplicates().sort_values(by='dob_year')"
   ]
  },
  {
   "cell_type": "code",
   "execution_count": 21,
   "metadata": {},
   "outputs": [
    {
     "data": {
      "text/html": [
       "<div>\n",
       "<style scoped>\n",
       "    .dataframe tbody tr th:only-of-type {\n",
       "        vertical-align: middle;\n",
       "    }\n",
       "\n",
       "    .dataframe tbody tr th {\n",
       "        vertical-align: top;\n",
       "    }\n",
       "\n",
       "    .dataframe thead th {\n",
       "        text-align: right;\n",
       "    }\n",
       "</style>\n",
       "<table border=\"1\" class=\"dataframe\">\n",
       "  <thead>\n",
       "    <tr style=\"text-align: right;\">\n",
       "      <th></th>\n",
       "      <th>index</th>\n",
       "      <th>dob_year</th>\n",
       "      <th>userid</th>\n",
       "    </tr>\n",
       "  </thead>\n",
       "  <tbody>\n",
       "    <tr>\n",
       "      <th>0</th>\n",
       "      <td>45453</td>\n",
       "      <td>1900</td>\n",
       "      <td>1708305</td>\n",
       "    </tr>\n",
       "    <tr>\n",
       "      <th>1</th>\n",
       "      <td>55697</td>\n",
       "      <td>1900</td>\n",
       "      <td>1591019</td>\n",
       "    </tr>\n",
       "  </tbody>\n",
       "</table>\n",
       "</div>"
      ],
      "text/plain": [
       "   index  dob_year   userid\n",
       "0  45453      1900  1708305\n",
       "1  55697      1900  1591019"
      ]
     },
     "execution_count": 21,
     "metadata": {},
     "output_type": "execute_result"
    }
   ],
   "source": [
    "fb_yearwise=fb_yearwise.reset_index()\n",
    "fb_yearwise.head(2)"
   ]
  },
  {
   "cell_type": "code",
   "execution_count": 22,
   "metadata": {},
   "outputs": [],
   "source": [
    "fb_yearwise=fb_yearwise.groupby(['dob_year'])[['userid']].agg('count')\n",
    "fb_yearwise.columns=['No. of Users']"
   ]
  },
  {
   "cell_type": "code",
   "execution_count": 23,
   "metadata": {},
   "outputs": [
    {
     "data": {
      "text/plain": [
       "Text(0.5,1,'Total no. of Users w.r.t birth year')"
      ]
     },
     "execution_count": 23,
     "metadata": {},
     "output_type": "execute_result"
    },
    {
     "data": {
      "image/png": "[encoded data removed]",
      "text/plain": [
       "<Figure size 432x288 with 1 Axes>"
      ]
     },
     "metadata": {},
     "output_type": "display_data"
    }
   ],
   "source": [
    "fb_yearwise.plot(kind='line')\n",
    "plt.legend(loc=(0.60,0.9))\n",
    "plt.xlabel(\"Years\", size = 14)\n",
    "plt.ylabel(\"No.of Users\", size = 14)\n",
    "plt.title(\"Total no. of Users w.r.t birth year\")"
   ]
  },
  {
   "cell_type": "code",
   "execution_count": 24,
   "metadata": {},
   "outputs": [
    {
     "data": {
      "text/plain": [
       "Text(0.5,1,'Age wise distribution of Users')"
      ]
     },
     "execution_count": 24,
     "metadata": {},
     "output_type": "execute_result"
    },
    {
     "data": {
      "image/png": "[encoded data removed]",
      "text/plain": [
       "<Figure size 432x288 with 1 Axes>"
      ]
     },
     "metadata": {},
     "output_type": "display_data"
    }
   ],
   "source": [
    "age=pd.Series(rem_out(fb['age']))\n",
    "age.hist(bins=50, color='#a1dab4')\n",
    "plt.xlabel(\"Age\", size = 14)\n",
    "plt.ylabel(\"No.of Users\", size = 14)\n",
    "plt.title(\"Age wise distribution of Users\")"
   ]
  },
  {
   "cell_type": "markdown",
   "metadata": {},
   "source": [
    "# 3. Modelling\n",
    "\n",
    "We will try to predict likes received on the basis of other predictors (leaving out inter-related variables such as likes received from mobile, site etc.). This is to understand dependence of profile visibility on the variables that are given."
   ]
  },
  {
   "cell_type": "code",
   "execution_count": 25,
   "metadata": {},
   "outputs": [],
   "source": [
    "model_columns=['age', 'dob_day', 'dob_year', 'dob_month', 'gender',\n",
    "       'tenure', 'friend_count', 'friendships_initiated', 'likes',\n",
    "       'likes_received']\n",
    "fb_model=fb.dropna()"
   ]
  },
  {
   "cell_type": "code",
   "execution_count": 26,
   "metadata": {},
   "outputs": [],
   "source": [
    "categorical_columns = ['gender']\n",
    "f=['age',\n",
    "       'tenure', 'friend_count', 'friendships_initiated',\n",
    "       'likes_received']\n",
    "formula = '{}'.format(' + '.join(['C({})'.format(x) for x in categorical_columns]))\n",
    "m = 'likes ~ 0 + {}'.format(' + '.join(['Q(\"{}\")'.format(x) for x in f]))"
   ]
  },
  {
   "cell_type": "code",
   "execution_count": 27,
   "metadata": {},
   "outputs": [
    {
     "data": {
      "text/plain": [
       "'likes ~ 0 + Q(\"age\") + Q(\"tenure\") + Q(\"friend_count\") + Q(\"friendships_initiated\") + Q(\"likes_received\")+C(gender)'"
      ]
     },
     "execution_count": 27,
     "metadata": {},
     "output_type": "execute_result"
    }
   ],
   "source": [
    "n=m+'+'+formula\n",
    "n"
   ]
  },
  {
   "cell_type": "code",
   "execution_count": 28,
   "metadata": {},
   "outputs": [],
   "source": [
    "import statsmodels.api as sm\n",
    "from patsy import dmatrices\n",
    "y, X = dmatrices(n, data=fb_model, return_type='dataframe')"
   ]
  },
  {
   "cell_type": "code",
   "execution_count": 29,
   "metadata": {},
   "outputs": [
    {
     "name": "stdout",
     "output_type": "stream",
     "text": [
      "                            OLS Regression Results                            \n",
      "==============================================================================\n",
      "Dep. Variable:                  likes   R-squared:                       0.199\n",
      "Model:                            OLS   Adj. R-squared:                  0.199\n",
      "Method:                 Least Squares   F-statistic:                     2867.\n",
      "Date:                Mon, 03 Sep 2018   Prob (F-statistic):               0.00\n",
      "Time:                        21:08:54   Log-Likelihood:            -5.2665e+05\n",
      "No. Observations:               69178   AIC:                         1.053e+06\n",
      "Df Residuals:                   69171   BIC:                         1.053e+06\n",
      "Df Model:                           6                                         \n",
      "Covariance Type:            nonrobust                                         \n",
      "==============================================================================================\n",
      "                                 coef    std err          t      P>|t|      [0.025      0.975]\n",
      "----------------------------------------------------------------------------------------------\n",
      "C(gender)[female]            144.1977      4.661     30.935      0.000     135.061     153.334\n",
      "C(gender)[male]                8.8286      4.057      2.176      0.030       0.878      16.779\n",
      "Q(\"age\")                      -0.1658      0.094     -1.762      0.078      -0.350       0.019\n",
      "Q(\"tenure\")                    0.0091      0.005      1.947      0.051   -5.95e-05       0.018\n",
      "Q(\"friend_count\")              0.1037      0.009     11.960      0.000       0.087       0.121\n",
      "Q(\"friendships_initiated\")     0.4793      0.018     27.312      0.000       0.445       0.514\n",
      "Q(\"likes_received\")            0.1388      0.002     84.549      0.000       0.136       0.142\n",
      "==============================================================================\n",
      "Omnibus:                    89844.487   Durbin-Watson:                   1.996\n",
      "Prob(Omnibus):                  0.000   Jarque-Bera (JB):        185779230.061\n",
      "Skew:                           6.384   Prob(JB):                         0.00\n",
      "Kurtosis:                     256.554   Cond. No.                     3.61e+03\n",
      "==============================================================================\n",
      "\n",
      "Warnings:\n",
      "[1] Standard Errors assume that the covariance matrix of the errors is correctly specified.\n",
      "[2] The condition number is large, 3.61e+03. This might indicate that there are\n",
      "strong multicollinearity or other numerical problems.\n"
     ]
    }
   ],
   "source": [
    "##########\n",
    "from sklearn.model_selection import train_test_split\n",
    "X_train, X_test, y_train, y_test = train_test_split(X, y, test_size=0.3, random_state=1)\n",
    "model = sm.OLS(y_train, X_train)       # Set up the model\n",
    "result = model.fit()       # Fit model (find the intercept and slopes)\n",
    "print result.summary()"
   ]
  },
  {
   "cell_type": "code",
   "execution_count": 30,
   "metadata": {
    "scrolled": true
   },
   "outputs": [],
   "source": [
    "########\n",
    "from sklearn import metrics\n",
    "prediction = pd.DataFrame(model.fit().predict(X_test))"
   ]
  },
  {
   "cell_type": "code",
   "execution_count": 31,
   "metadata": {},
   "outputs": [],
   "source": [
    "Results=y_test.merge(prediction, left_index=True, right_index=True)"
   ]
  },
  {
   "cell_type": "code",
   "execution_count": 32,
   "metadata": {},
   "outputs": [],
   "source": [
    "MAPE = sqrt(mean(abs(Results[0]-Results['likes'])**2))"
   ]
  },
  {
   "cell_type": "code",
   "execution_count": 39,
   "metadata": {},
   "outputs": [],
   "source": [
    "Results=Results.reset_index()[['likes',0]]\n",
    "Results.columns=['Actual','Predicted']"
   ]
  },
  {
   "cell_type": "code",
   "execution_count": 42,
   "metadata": {},
   "outputs": [
    {
     "data": {
      "text/plain": [
       "<matplotlib.axes._subplots.AxesSubplot at 0x18298c88>"
      ]
     },
     "execution_count": 42,
     "metadata": {},
     "output_type": "execute_result"
    },
    {
     "data": {
      "image/png": "[encoded data removed]",
      "text/plain": [
       "<Figure size 432x288 with 1 Axes>"
      ]
     },
     "metadata": {},
     "output_type": "display_data"
    }
   ],
   "source": [
    "Results.plot(kind='line')"
   ]
  },
  {
   "cell_type": "code",
   "execution_count": null,
   "metadata": {},
   "outputs": [],
   "source": []
  }
 ],
 "metadata": {
  "kernelspec": {
   "display_name": "Python 2",
   "language": "python",
   "name": "python2"
  },
  "language_info": {
   "codemirror_mode": {
    "name": "ipython",
    "version": 2
   },
   "file_extension": ".py",
   "mimetype": "text/x-python",
   "name": "python",
   "nbconvert_exporter": "python",
   "pygments_lexer": "ipython2",
   "version": "2.7.15"
  }
 },
 "nbformat": 4,
 "nbformat_minor": 2
}
